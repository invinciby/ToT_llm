{
 "cells": [
  {
   "cell_type": "markdown",
   "id": "49abfb81f21f8ad9",
   "metadata": {},
   "source": [
    "例子：小明 100 米跑成绩：10.5 秒，1500 米跑成绩：3 分 20 秒，铅球成绩：12 米。他适合参加哪些搏击运动训练。"
   ]
  },
  {
   "cell_type": "code",
   "execution_count": 1,
   "id": "a77504a448fa658c",
   "metadata": {
    "ExecuteTime": {
     "end_time": "2024-11-17T07:27:24.483656Z",
     "start_time": "2024-11-17T07:27:23.256736Z"
    }
   },
   "outputs": [],
   "source": [
    "import json\n",
    "from openai import OpenAI\n",
    "from dotenv import load_dotenv, find_dotenv\n",
    "import os\n",
    "_ = load_dotenv(find_dotenv())\n",
    "\n",
    "client = OpenAI(\n",
    "    api_key=\"sk-B9wonBTcGeUhTY3Rn3N0raK7jR8DQeKuJzxmhtOAdQXAnK2o\",\n",
    "    base_url=\"https://api.chatanywhere.tech\"\n",
    ")\n"
   ]
  },
  {
   "cell_type": "code",
   "execution_count": 2,
   "id": "265381771a1bbd5d",
   "metadata": {
    "ExecuteTime": {
     "end_time": "2024-11-17T07:28:27.627968Z",
     "start_time": "2024-11-17T07:28:27.619822Z"
    }
   },
   "outputs": [],
   "source": [
    "def get_completion(prompt, model=\"gpt-3.5-turbo\", temperature=0):\n",
    "    messages = [{\"role\": \"user\", \"content\": prompt}]\n",
    "    response = client.chat.completions.create(\n",
    "        model=model,\n",
    "        messages=messages,\n",
    "        temperature=temperature  # 模型输出的随机性，0 表示随机性最小\n",
    "    )\n",
    "    return response.choices[0].message.content\n",
    "\n",
    "def performance_analyser(text):\n",
    "    prompt = f\"{text}\\n请根据以上成绩，分析候选人在速度、耐力、力量三方面素质的分档。分档包括：强（3），中（2），弱（1）三档。\\\n",
    "                \\n以JSON格式输出，其中key为素质名，value为以数值表示的分档。\"\n",
    "    response = get_completion(prompt)\n",
    "    return json.loads(response)\n",
    "\n",
    "def possible_sports(talent, category):\n",
    "    prompt = f\"需要{talent}强的{category}运动有哪些。给出10个例子，以array形式输出。确保输出能由json.loads解析。\"\n",
    "    response = get_completion(prompt, temperature=0.8)\n",
    "    return json.loads(response)\n",
    "\n",
    "def evaluate(sports, talent, value):\n",
    "    prompt = f\"分析{sports}运动对{talent}方面素质的要求: 强（3），中（2），弱（1）。\\\n",
    "                \\n直接输出挡位数字。输出只包含数字。\"\n",
    "    response = get_completion(prompt)\n",
    "    val = int(response)\n",
    "    print(f\"{sports}: {talent} {val} {value>=val}\")\n",
    "    return value >= val\n",
    "\n",
    "def report_generator(name, performance, talents, sports):\n",
    "    level = ['弱', '中', '强']\n",
    "    _talents = {k: level[v-1] for k, v in talents.items()}\n",
    "    prompt = f\"已知{name}{performance}\\n身体素质：{_talents}。\\n生成一篇{name}适合{sports}训练的分析报告。\"\n",
    "    response = get_completion(prompt, model=\"gpt-3.5-turbo\")\n",
    "    return response"
   ]
  },
  {
   "cell_type": "code",
   "execution_count": 3,
   "id": "26ceb7b3c29939d4",
   "metadata": {
    "ExecuteTime": {
     "end_time": "2024-11-17T07:28:48.748682Z",
     "start_time": "2024-11-17T07:28:39.113466Z"
    }
   },
   "outputs": [
    {
     "name": "stdout",
     "output_type": "stream",
     "text": [
      "===talents===\n",
      "{'速度': 3, '耐力': 2, '力量': 3}\n"
     ]
    }
   ],
   "source": [
    "name = \"小明\"\n",
    "performance = \"100米跑成绩：10.5秒，1500米跑成绩：3分20秒，铅球成绩：12米。\"\n",
    "category = \"搏击\"\n",
    " \n",
    "talents = performance_analyser(name+performance)\n",
    "print(\"===talents===\")\n",
    "print(talents)"
   ]
  },
  {
   "cell_type": "code",
   "execution_count": 4,
   "id": "88a92426a566a29d",
   "metadata": {
    "ExecuteTime": {
     "end_time": "2024-11-17T07:29:38.482437Z",
     "start_time": "2024-11-17T07:29:15.559853Z"
    }
   },
   "outputs": [
    {
     "name": "stdout",
     "output_type": "stream",
     "text": [
      "===速度 leafs===\n",
      "['拳击', '泰拳', '跆拳道', '空手道', '综合格斗', '散打', '击剑', '空手搏击', '巴西柔术', '自由搏击']\n",
      "拳击: 耐力 3 False\n",
      "泰拳: 耐力 3 False\n",
      "跆拳道: 耐力 3 False\n",
      "空手道: 耐力 3 False\n",
      "综合格斗: 耐力 3 False\n",
      "散打: 耐力 3 False\n",
      "击剑: 耐力 3 False\n",
      "空手搏击: 耐力 3 False\n",
      "巴西柔术: 耐力 3 False\n",
      "自由搏击: 耐力 3 False\n",
      "===力量 leafs===\n",
      "['拳击', '综合格斗', '泰拳', '踢拳', '巴西柔术', '柔道', '空手道', '泰拳', '跆拳道', '自由搏击']\n",
      "踢拳: 速度 3 True\n",
      "踢拳: 耐力 3 False\n",
      "柔道: 速度 3 True\n",
      "柔道: 耐力 3 False\n"
     ]
    }
   ],
   "source": [
    "cache = set()\n",
    "# 深度优先\n",
    "\n",
    "# 第一层节点\n",
    "for k, v in talents.items():\n",
    "    if v < 3:  # 剪枝\n",
    "        continue\n",
    "    leafs = possible_sports(k, category)\n",
    "    print(f\"==={k} leafs===\")\n",
    "    print(leafs)\n",
    "    # 第二层节点\n",
    "    for sports in leafs:\n",
    "        if sports in cache:\n",
    "            continue\n",
    "        cache.add(sports)\n",
    "        suitable = True\n",
    "        for t, p in talents.items():\n",
    "            if t == k:\n",
    "                continue\n",
    "            # 第三层节点\n",
    "            if not evaluate(sports, t, p):  # 剪枝\n",
    "                suitable = False\n",
    "                break\n",
    "        if suitable:\n",
    "            report = report_generator(name, performance, talents, sports)\n",
    "            print(\"****\")\n",
    "            print(report)\n",
    "            print(\"****\")"
   ]
  },
  {
   "cell_type": "markdown",
   "id": "42c0ba061a8644b9",
   "metadata": {},
   "source": [
    "原代码分析"
   ]
  },
  {
   "cell_type": "code",
   "execution_count": 12,
   "id": "148b09e6",
   "metadata": {},
   "outputs": [
    {
     "data": {
      "text/plain": [
       "'f:\\\\Project_LLM\\\\LLM_FirstLearn\\\\ToT_Persist'"
      ]
     },
     "execution_count": 12,
     "metadata": {},
     "output_type": "execute_result"
    }
   ],
   "source": [
    "pwd # type: ignore"
   ]
  },
  {
   "cell_type": "code",
   "execution_count": 19,
   "id": "1dd217472917f5ab",
   "metadata": {},
   "outputs": [],
   "source": [
    "import os\n",
    "import json\n",
    "import argparse\n",
    "from email.policy import default\n",
    "from sympy import false # type: ignore\n",
    "\n",
    "from task.get_task import  get_task\n",
    "# from methods.bfs import solve, naive_solve\n",
    "# solve : 主求解函数，执行生成、评估和选择步骤，最终返回最佳输出。\n",
    "# naive_solve : 一个简单的求解函数，直接生成样本并返回\n",
    "from config.model import gpt_usage\n",
    "\n",
    "# from methods.bfs import  solve, naive_solve\n",
    "\n",
    "\n",
    "\n"
   ]
  },
  {
   "cell_type": "code",
   "execution_count": null,
   "id": "87c91646",
   "metadata": {},
   "outputs": [],
   "source": []
  }
 ],
 "metadata": {
  "kernelspec": {
   "display_name": "llm_learn",
   "language": "python",
   "name": "python3"
  },
  "language_info": {
   "codemirror_mode": {
    "name": "ipython",
    "version": 3
   },
   "file_extension": ".py",
   "mimetype": "text/x-python",
   "name": "python",
   "nbconvert_exporter": "python",
   "pygments_lexer": "ipython3",
   "version": "3.9.20"
  }
 },
 "nbformat": 4,
 "nbformat_minor": 5
}
